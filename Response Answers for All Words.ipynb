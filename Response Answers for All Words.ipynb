{
 "cells": [
  {
   "cell_type": "markdown",
   "metadata": {},
   "source": [
    "Which were the 5 most frequent words in all_words.csv were most frequent?\n",
    "* the, 2729\n",
    "* project, 89\n",
    "* gutenberg, 97\n",
    "* ebook, 13\n",
    "* In, 104\n",
    "  \n",
    "Which were the 5 most frequent words in all_uppercase_words.csv.\n",
    "* The, 191\n",
    "* I, 149\n",
    "* It, 120\n",
    "* But, 119\n",
    "* Thus, 113\n",
    "\n",
    "Compare and contrast these top 5. Explain in 2-3 sentences what you observe about the similariries and differences.\n",
    "\n",
    "The top 5 words in both lists consist of common English words, but their frequencies differ, indicating variations in text length or content. While \"the\" is present in both lists, the other words are distinct, suggesting that the lists likely represent the Project Gutenburg.\n",
    "\n",
    "In your own words, what were the most surprising parts of each list?\n",
    "- The most surprising parts of the list are the long unique words given.\n",
    "\n"
   ]
  }
 ],
 "metadata": {
  "language_info": {
   "name": "python"
  },
  "orig_nbformat": 4
 },
 "nbformat": 4,
 "nbformat_minor": 2
}
