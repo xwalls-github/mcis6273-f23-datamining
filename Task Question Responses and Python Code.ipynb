{
 "cells": [
  {
   "cell_type": "markdown",
   "metadata": {},
   "source": [
    "Task: Answer the following questions using your analysis and results from the text:\n",
    "\n",
    "How many unique non-stop words are in the text? \n",
    "- From my observation, there's 1452 unique non-stop words.\n",
    "\n",
    "Which is the least probable word? (if there is a tie, please state the tie words)\n",
    "- electronically\n",
    "- permitted\n",
    "- readable\n",
    "- computers\n",
    "- generations\n",
    "- exempt\n",
    "- federal\n",
    "- contributions\n",
    "- email\n",
    "- solicit\n",
    "- visit\n",
    "- title\n",
    "\n",
    "\n",
    "What observation can you make about the probabilities?\n",
    "df.std()\n",
    "Frequency      80.197548\n",
    "NonStopWord     0.369550\n",
    "Probability     0.005820\n",
    "\n",
    "df.mean()\n",
    "Frequency      12.881045\n",
    "NonStopWord     0.836854\n",
    "Probability     0.000935\n",
    "\n",
    "Which sentence is more likely:\n",
    "If a belief is true, it can be deduced it is universal.\n",
    "Criticism of knowledge is counter to scientific results.\n",
    "\n",
    "You will use the sum of the probabilities of each non-stop word to answer the question. You will need to give numeric rationale for your answer. Show your work in Python!"
   ]
  },
  {
   "cell_type": "code",
   "execution_count": 2,
   "metadata": {},
   "outputs": [
    {
     "name": "stdout",
     "output_type": "stream",
     "text": [
      "Sentence 2 is more likely.\n",
      "Total Probability for Sentence 1: 117.0\n",
      "Total Probability for Sentence 2: 322.0\n"
     ]
    }
   ],
   "source": [
    "import csv\n",
    "\n",
    "# Load the CSV file containing word probabilities\n",
    "word_probabilities = {}  # Dictionary to store word probabilities\n",
    "with open('all_ns_words.csv', mode='r') as csv_file:\n",
    "    csv_reader = csv.reader(csv_file)\n",
    "    next(csv_reader)  # Skip the header row\n",
    "    for row in csv_reader:\n",
    "        word_probabilities[row[0]] = float(row[1])\n",
    "\n",
    "# Define the sentences\n",
    "sentence1 = \"If a belief is true, it can be deduced it is universal.\"\n",
    "sentence2 = \"Criticism of knowledge is counter to scientific results.\"\n",
    "\n",
    "# Tokenize the sentences into non-stop words (you might want to improve tokenization)\n",
    "def tokenize_and_filter(sentence):\n",
    "    words = sentence.split()\n",
    "    non_stop_words = [word.lower() for word in words if word.lower() not in ['a', 'an', 'the']]  # Assuming 'a', 'an', and 'the' are stop words\n",
    "    return non_stop_words\n",
    "\n",
    "# Calculate the sum of probabilities for non-stop words in a sentence\n",
    "def calculate_total_probability(sentence, word_probabilities):\n",
    "    non_stop_words = tokenize_and_filter(sentence)\n",
    "    total_probability = sum(word_probabilities.get(word, 0.0) for word in non_stop_words)\n",
    "    return total_probability\n",
    "\n",
    "# Calculate the total probabilities for each sentence\n",
    "total_probability1 = calculate_total_probability(sentence1, word_probabilities)\n",
    "total_probability2 = calculate_total_probability(sentence2, word_probabilities)\n",
    "\n",
    "# Compare the total probabilities to determine which sentence is more likely\n",
    "if total_probability1 > total_probability2:\n",
    "    result = \"Sentence 1 is more likely.\"\n",
    "elif total_probability2 > total_probability1:\n",
    "    result = \"Sentence 2 is more likely.\"\n",
    "else:\n",
    "    result = \"Both sentences are equally likely.\"\n",
    "\n",
    "# Print the result and total probabilities\n",
    "print(result)\n",
    "print(\"Total Probability for Sentence 1:\", total_probability1)\n",
    "print(\"Total Probability for Sentence 2:\", total_probability2)\n"
   ]
  }
 ],
 "metadata": {
  "kernelspec": {
   "display_name": "base",
   "language": "python",
   "name": "python3"
  },
  "language_info": {
   "codemirror_mode": {
    "name": "ipython",
    "version": 3
   },
   "file_extension": ".py",
   "mimetype": "text/x-python",
   "name": "python",
   "nbconvert_exporter": "python",
   "pygments_lexer": "ipython3",
   "version": "3.9.13"
  },
  "orig_nbformat": 4
 },
 "nbformat": 4,
 "nbformat_minor": 2
}
