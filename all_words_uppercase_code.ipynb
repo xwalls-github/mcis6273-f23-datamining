{
 "cells": [
  {
   "cell_type": "code",
   "execution_count": 1,
   "metadata": {},
   "outputs": [],
   "source": [
    "# Xavier Walls\n",
    "# MCIS-6273-F2 Data Mining\n",
    "\n",
    "import re\n",
    "import csv\n",
    "from collections import Counter\n",
    "from urllib import request\n",
    "\n",
    "# URL of the text file\n",
    "url = \"https://www.gutenberg.org/cache/epub/5827/pg5827.txt\"\n",
    "\n",
    "# Function to download the text from the URL\n",
    "def download_text(url):\n",
    "    response = request.urlopen(url)\n",
    "    return response.read().decode(\"utf-8\")\n",
    "\n",
    "# Download the text file from the web\n",
    "text = download_text(url)\n",
    "\n",
    "# Tokenize the text and filter out words starting with an uppercase letter\n",
    "tokens = re.findall(r\"\\b[A-Z][A-Za-z']*\\b\", text)\n",
    "\n",
    "# Count the frequency of each word\n",
    "word_counts = Counter(tokens)\n",
    "\n",
    "# Sort the words by frequency in descending order\n",
    "sorted_words = sorted(word_counts.items(), key=lambda x: x[1], reverse=True)\n",
    "\n",
    "# Write the results to a CSV file named all_words_starting_with_uppercase.csv\n",
    "with open(\"all_uppercase_words.csv\", \"w\", newline=\"\") as csvfile:\n",
    "    csv_writer = csv.writer(csvfile)\n",
    "    csv_writer.writerows(sorted_words)\n"
   ]
  }
 ],
 "metadata": {
  "kernelspec": {
   "display_name": "base",
   "language": "python",
   "name": "python3"
  },
  "language_info": {
   "codemirror_mode": {
    "name": "ipython",
    "version": 3
   },
   "file_extension": ".py",
   "mimetype": "text/x-python",
   "name": "python",
   "nbconvert_exporter": "python",
   "pygments_lexer": "ipython3",
   "version": "3.9.13"
  },
  "orig_nbformat": 4
 },
 "nbformat": 4,
 "nbformat_minor": 2
}
