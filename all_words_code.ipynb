{
 "cells": [
  {
   "cell_type": "code",
   "execution_count": 5,
   "metadata": {},
   "outputs": [
    {
     "name": "stdout",
     "output_type": "stream",
     "text": [
      "Word frequencies saved to 'all_words.csv'.\n"
     ]
    }
   ],
   "source": [
    "# Xavier Walls\n",
    "# MCIS-6273-F2 Data Mining\n",
    "\n",
    "import csv\n",
    "import re\n",
    "import urllib.request\n",
    "from collections import Counter\n",
    "\n",
    "# Function to tokenize text and count word frequencies\n",
    "def tokenize_text(text):\n",
    "    # Split the text into words while preserving contractions (e.g., can't)\n",
    "    words = re.findall(r'\\b[\\w\\']+\\b', text.lower())\n",
    "    return words\n",
    "\n",
    "# URL of the text file\n",
    "url = \"https://www.gutenberg.org/cache/epub/5827/pg5827.txt\"\n",
    "\n",
    "# Download the text file\n",
    "response = urllib.request.urlopen(url)\n",
    "text = response.read().decode('utf-8')\n",
    "\n",
    "# Tokenize the text and count word frequencies\n",
    "word_list = tokenize_text(text)\n",
    "word_counts = Counter(word_list)\n",
    "\n",
    "# Write the results to a CSV file\n",
    "with open(\"all_words.csv\", \"w\", newline='') as csvfile:\n",
    "    csv_writer = csv.writer(csvfile)\n",
    "    \n",
    "    # Write the header\n",
    "    csv_writer.writerow([\"Word\", \"Frequency\"])\n",
    "    \n",
    "    # Write word frequencies\n",
    "    for word, frequency in word_counts.items():\n",
    "        csv_writer.writerow([word, frequency])\n",
    "\n",
    "print(\"Word frequencies saved to 'all_words.csv'.\")"
   ]
  }
 ],
 "metadata": {
  "kernelspec": {
   "display_name": "base",
   "language": "python",
   "name": "python3"
  },
  "language_info": {
   "codemirror_mode": {
    "name": "ipython",
    "version": 3
   },
   "file_extension": ".py",
   "mimetype": "text/x-python",
   "name": "python",
   "nbconvert_exporter": "python",
   "pygments_lexer": "ipython3",
   "version": "3.9.13"
  },
  "orig_nbformat": 4
 },
 "nbformat": 4,
 "nbformat_minor": 2
}
